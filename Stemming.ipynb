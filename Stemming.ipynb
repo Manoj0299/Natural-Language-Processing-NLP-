{
 "cells": [
  {
   "cell_type": "markdown",
   "metadata": {},
   "source": [
    "# Stemming\n",
    "Stemming is used to normalize words into its base form or root form. "
   ]
  },
  {
   "cell_type": "code",
   "execution_count": 1,
   "metadata": {},
   "outputs": [],
   "source": [
    "import nltk\n",
    "from nltk.stem import PorterStemmer\n",
    "from nltk.corpus import stopwords"
   ]
  },
  {
   "cell_type": "code",
   "execution_count": 2,
   "metadata": {},
   "outputs": [],
   "source": [
    "paragraph = \"\"\"Hello all!My best regards to everyone present. To start with I would welcome you all and also thank you for giving me \n",
    "this marvelous opportunity. Dr. APJ Abdul Kalam is not just a name but a feeling. He was the 11th President of India. \n",
    "He was one of the greatest scientists and is known for his achievements in the field of science. He is also popularly \n",
    "known as the Missile man of India. He was a man of power, status, knowledge, and virtue.Born on 15 October 1931 in Rameswaram, \n",
    "Tamil Nadu, Dr. Kalam is a great motivator for many. He was born in a middle-class Muslim family and witnessed many struggles. \n",
    "Even after that he never gave up and moved ahead on the path of determination and success. His full name was Avul Pakir \n",
    "Jainulabdeen Abdul Kalam. Since the beginning, he had a very keen interest to study. He served DRDO and ISRO as the scientist.\n",
    "He was a man of dreams and ideas. He dreamt of making India one of the super-powers in the world. His idea of dreaming was \n",
    "really different. He emphasized that the dreams are not those which you see when you sleep but are those which never let you \n",
    "sleep. Some countless efforts and contributions are made by Dr. Kalam for the sake of the nation. He was awarded by Bharat \n",
    "Ratna in the year 1997.While delivering his speech at the Institute of Management, Shillong he got cardiac arrest and collapsed.\n",
    "He left us, making 27 July 2015 one of the saddest days in the history of India. To conclude, I would like to say even though \n",
    "he left us, he is still in our hearts. His golden words and miraculous deeds will always be remembered. In the end, I would \n",
    "like to thank you all for giving me this opportunity. Have a wonderful day.\"\"\""
   ]
  },
  {
   "cell_type": "code",
   "execution_count": 3,
   "metadata": {},
   "outputs": [],
   "source": [
    "sentences = nltk.sent_tokenize(paragraph)"
   ]
  },
  {
   "cell_type": "code",
   "execution_count": 4,
   "metadata": {},
   "outputs": [
    {
     "data": {
      "text/plain": [
       "['Hello all!My best regards to everyone present.',\n",
       " 'To start with I would welcome you all and also thank you for giving me \\nthis marvelous opportunity.',\n",
       " 'Dr. APJ Abdul Kalam is not just a name but a feeling.',\n",
       " 'He was the 11th President of India.',\n",
       " 'He was one of the greatest scientists and is known for his achievements in the field of science.',\n",
       " 'He is also popularly \\nknown as the Missile man of India.',\n",
       " 'He was a man of power, status, knowledge, and virtue.Born on 15 October 1931 in Rameswaram, \\nTamil Nadu, Dr. Kalam is a great motivator for many.',\n",
       " 'He was born in a middle-class Muslim family and witnessed many struggles.',\n",
       " 'Even after that he never gave up and moved ahead on the path of determination and success.',\n",
       " 'His full name was Avul Pakir \\nJainulabdeen Abdul Kalam.',\n",
       " 'Since the beginning, he had a very keen interest to study.',\n",
       " 'He served DRDO and ISRO as the scientist.',\n",
       " 'He was a man of dreams and ideas.',\n",
       " 'He dreamt of making India one of the super-powers in the world.',\n",
       " 'His idea of dreaming was \\nreally different.',\n",
       " 'He emphasized that the dreams are not those which you see when you sleep but are those which never let you \\nsleep.',\n",
       " 'Some countless efforts and contributions are made by Dr. Kalam for the sake of the nation.',\n",
       " 'He was awarded by Bharat \\nRatna in the year 1997.While delivering his speech at the Institute of Management, Shillong he got cardiac arrest and collapsed.',\n",
       " 'He left us, making 27 July 2015 one of the saddest days in the history of India.',\n",
       " 'To conclude, I would like to say even though \\nhe left us, he is still in our hearts.',\n",
       " 'His golden words and miraculous deeds will always be remembered.',\n",
       " 'In the end, I would \\nlike to thank you all for giving me this opportunity.',\n",
       " 'Have a wonderful day.']"
      ]
     },
     "execution_count": 4,
     "metadata": {},
     "output_type": "execute_result"
    }
   ],
   "source": [
    "sentences"
   ]
  },
  {
   "cell_type": "code",
   "execution_count": 5,
   "metadata": {},
   "outputs": [],
   "source": [
    "stemmer = PorterStemmer()"
   ]
  },
  {
   "cell_type": "code",
   "execution_count": 6,
   "metadata": {},
   "outputs": [],
   "source": [
    "# Stemming\n",
    "for i in range(len(sentences)):\n",
    "    words = nltk.word_tokenize(sentences[i])\n",
    "    words = [stemmer.stem(word) for word in words if word not in set(stopwords.words('english'))]\n",
    "    sentences[i] = ' '.join(words) "
   ]
  },
  {
   "cell_type": "code",
   "execution_count": 7,
   "metadata": {},
   "outputs": [
    {
     "data": {
      "text/plain": [
       "['hello ! My best regard everyon present .',\n",
       " 'To start I would welcom also thank give marvel opportun .',\n",
       " 'dr. apj abdul kalam name feel .',\n",
       " 'He 11th presid india .',\n",
       " 'He one greatest scientist known achiev field scienc .',\n",
       " 'He also popularli known missil man india .',\n",
       " 'He man power , statu , knowledg , virtue.born 15 octob 1931 rameswaram , tamil nadu , dr. kalam great motiv mani .',\n",
       " 'He born middle-class muslim famili wit mani struggl .',\n",
       " 'even never gave move ahead path determin success .',\n",
       " 'hi full name avul pakir jainulabdeen abdul kalam .',\n",
       " 'sinc begin , keen interest studi .',\n",
       " 'He serv drdo isro scientist .',\n",
       " 'He man dream idea .',\n",
       " 'He dreamt make india one super-pow world .',\n",
       " 'hi idea dream realli differ .',\n",
       " 'He emphas dream see sleep never let sleep .',\n",
       " 'some countless effort contribut made dr. kalam sake nation .',\n",
       " 'He award bharat ratna year 1997.while deliv speech institut manag , shillong got cardiac arrest collaps .',\n",
       " 'He left us , make 27 juli 2015 one saddest day histori india .',\n",
       " 'To conclud , I would like say even though left us , still heart .',\n",
       " 'hi golden word miracul deed alway rememb .',\n",
       " 'In end , I would like thank give opportun .',\n",
       " 'have wonder day .']"
      ]
     },
     "execution_count": 7,
     "metadata": {},
     "output_type": "execute_result"
    }
   ],
   "source": [
    "sentences"
   ]
  }
 ],
 "metadata": {
  "kernelspec": {
   "display_name": "Python 3",
   "language": "python",
   "name": "python3"
  },
  "language_info": {
   "codemirror_mode": {
    "name": "ipython",
    "version": 3
   },
   "file_extension": ".py",
   "mimetype": "text/x-python",
   "name": "python",
   "nbconvert_exporter": "python",
   "pygments_lexer": "ipython3",
   "version": "3.8.5"
  }
 },
 "nbformat": 4,
 "nbformat_minor": 4
}
